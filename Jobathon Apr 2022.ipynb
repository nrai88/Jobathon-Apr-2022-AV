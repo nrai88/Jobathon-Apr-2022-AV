{
 "cells": [
  {
   "cell_type": "markdown",
   "metadata": {},
   "source": [
    "#### Importing Libraries"
   ]
  },
  {
   "cell_type": "code",
   "execution_count": 1,
   "metadata": {},
   "outputs": [],
   "source": [
    "import pandas as pd\n",
    "import numpy as np\n",
    "import seaborn as sns\n",
    "import matplotlib.pyplot as plt\n",
    "from sklearn.model_selection import KFold\n",
    "from catboost import CatBoostRegressor\n",
    "import warnings\n",
    "warnings.filterwarnings('ignore')"
   ]
  },
  {
   "cell_type": "markdown",
   "metadata": {},
   "source": [
    "#### Loading Data"
   ]
  },
  {
   "cell_type": "code",
   "execution_count": 2,
   "metadata": {},
   "outputs": [
    {
     "name": "stdout",
     "output_type": "stream",
     "text": [
      "(18247, 3) (7650, 2)\n",
      "train data is from 2018-08-18 09:00:00 to 2021-02-28 23:00:00\n",
      "test data is from 2021-03-01 00:00:00 to 2022-03-28 23:00:00\n",
      "(25897, 4)\n"
     ]
    }
   ],
   "source": [
    "train = pd.read_csv('train_E1GspfA.csv', parse_dates=['date'])\n",
    "test = pd.read_csv('test_6QvDdzb.csv', parse_dates=['date'])\n",
    "print (train.shape, test.shape)\n",
    "\n",
    "train['datetime'] = pd.to_datetime(train['date'].astype(str)+' '+train['hour'].astype(str)+':00')\n",
    "test['datetime'] = pd.to_datetime(test['date'].astype(str)+' '+test['hour'].astype(str)+':00')\n",
    "\n",
    "print ('train data is from {} to {}'.format(train['datetime'].min(), train['datetime'].max()))\n",
    "print ('test data is from {} to {}'.format(test['datetime'].min(), test['datetime'].max()))\n",
    "\n",
    "full_data = pd.concat([train, test])\n",
    "print (full_data.shape)"
   ]
  },
  {
   "cell_type": "code",
   "execution_count": 3,
   "metadata": {},
   "outputs": [
    {
     "data": {
      "text/plain": [
       "(array([1.320e+03, 2.475e+03, 3.007e+03, 3.205e+03, 3.284e+03, 2.582e+03,\n",
       "        1.198e+03, 4.990e+02, 2.550e+02, 1.290e+02, 1.040e+02, 5.200e+01,\n",
       "        5.300e+01, 3.400e+01, 1.900e+01, 1.200e+01, 1.000e+01, 5.000e+00,\n",
       "        2.000e+00, 2.000e+00]),\n",
       " array([  1. ,  19.9,  38.8,  57.7,  76.6,  95.5, 114.4, 133.3, 152.2,\n",
       "        171.1, 190. , 208.9, 227.8, 246.7, 265.6, 284.5, 303.4, 322.3,\n",
       "        341.2, 360.1, 379. ]),\n",
       " <BarContainer object of 20 artists>)"
      ]
     },
     "execution_count": 3,
     "metadata": {},
     "output_type": "execute_result"
    },
    {
     "data": {
      "image/png": "[encoded data removed]",
      "text/plain": [
       "<Figure size 432x288 with 1 Axes>"
      ]
     },
     "metadata": {
      "needs_background": "light"
     },
     "output_type": "display_data"
    }
   ],
   "source": [
    "plt.hist(train['demand'], bins=20)"
   ]
  },
  {
   "cell_type": "code",
   "execution_count": 4,
   "metadata": {},
   "outputs": [],
   "source": [
    "# creating date specific features\n",
    "full_data['year'] = full_data['datetime'].dt.year\n",
    "full_data['month'] = full_data['datetime'].dt.month\n",
    "full_data['day'] = full_data['datetime'].dt.day\n",
    "full_data['weekofyear'] = full_data['datetime'].dt.weekofyear\n",
    "full_data['dayofyear'] = full_data['datetime'].dt.dayofyear\n",
    "full_data['weekday'] = full_data['datetime'].dt.weekday\n",
    "full_data['hrs_since_previous'] = (full_data['datetime']-full_data['datetime'].shift(1)).dt.seconds/3600"
   ]
  },
  {
   "cell_type": "code",
   "execution_count": 5,
   "metadata": {},
   "outputs": [],
   "source": [
    "# # demand last year(same time) column\n",
    "# df = full_data[['demand']]\n",
    "# df.columns = ['demand_last_year']\n",
    "# df['datetime'] = pd.to_datetime(full_data['day'].astype(str)+'-'+full_data['month'].astype(str)+'-'+(full_data['year']+1).astype(str)+' '+full_data['hour'].astype(str)+':00', errors='coerce')\n",
    "# full_data = pd.merge(full_data, df, 'left')\n",
    "\n",
    "\n",
    "# # building aggregating features from demand same day last year\n",
    "# df = full_data.groupby(['year','month','day']).agg({'demand':['mean','median','min','max','std','count']}).reset_index()\n",
    "# df.columns = df.columns.get_level_values(0)+df.columns.get_level_values(1)\n",
    "# df['year'] = df['year']+1\n",
    "# df = df.rename(columns={'demandmean':'demand_mean_last_year_day','demandmedian':'demand_median_last_year_day',\n",
    "#                         'demandmin':'demand_min_last_year_day','demandmax':'demand_max_last_year_day',\n",
    "#                         'demandstd':'demand_std_last_year_day','demandcount':'demand_count_last_year_day'})\n",
    "# full_data = pd.merge(full_data, df, 'left')\n",
    "\n",
    "\n",
    "# # building aggregating features from demand same month last year\n",
    "# df = full_data.groupby(['year','month']).agg({'demand':['mean','median','min','max','std','count']}).reset_index()\n",
    "# df.columns = df.columns.get_level_values(0)+df.columns.get_level_values(1)\n",
    "# df['year'] = df['year']+1\n",
    "# df = df.rename(columns={'demandmean':'demand_mean_last_year_month','demandmedian':'demand_median_last_year_month',\n",
    "#                         'demandmin':'demand_min_last_year_month','demandmax':'demand_max_last_year_month',\n",
    "#                         'demandstd':'demand_std_last_year_month','demandcount':'demand_count_last_year_month'})\n",
    "# full_data = pd.merge(full_data, df, 'left')\n",
    "# del df"
   ]
  },
  {
   "cell_type": "code",
   "execution_count": 6,
   "metadata": {},
   "outputs": [],
   "source": [
    "train_df = full_data[~full_data['demand'].isnull()]\n",
    "test_df = full_data[full_data['demand'].isnull()]"
   ]
  },
  {
   "cell_type": "code",
   "execution_count": 7,
   "metadata": {},
   "outputs": [
    {
     "data": {
      "text/plain": [
       "<AxesSubplot:xlabel='weekday', ylabel='demand'>"
      ]
     },
     "execution_count": 7,
     "metadata": {},
     "output_type": "execute_result"
    },
    {
     "data": {
      "image/png": "[encoded data removed]",
      "text/plain": [
       "<Figure size 1080x432 with 1 Axes>"
      ]
     },
     "metadata": {},
     "output_type": "display_data"
    }
   ],
   "source": [
    "df = train_df.groupby('weekday').agg({'demand':'mean'}).reset_index()\n",
    "sns.set(rc={'figure.figsize':(15,6)})\n",
    "sns.barplot(data=df, x='weekday', y='demand')"
   ]
  },
  {
   "cell_type": "markdown",
   "metadata": {},
   "source": [
    "* As expected, the average demand is high during weekend"
   ]
  },
  {
   "cell_type": "code",
   "execution_count": 8,
   "metadata": {},
   "outputs": [
    {
     "name": "stdout",
     "output_type": "stream",
     "text": [
      "36.60932719816931 at 201\n",
      "32.35894425392193 at 2808\n",
      "36.4724760256407 at 1658\n",
      "32.74350777276769 at 2660\n",
      "36.50287083561776 at 1359\n",
      "The Local CV is 34.82567221675844\n"
     ]
    }
   ],
   "source": [
    "drop_cols = ['date','datetime','demand']\n",
    "cols_for_model = list(set(train_df.columns)-set(drop_cols))\n",
    "\n",
    "cb_scores, pred_cb, feat_scores = [], [], []\n",
    "for idxT, idxV in KFold(n_splits=5).split(train_df):\n",
    "    df_trainX, df_trainY = train_df.iloc[idxT][cols_for_model], train_df.iloc[idxT]['demand']\n",
    "    df_evalX, df_evalY = train_df.iloc[idxV][cols_for_model], train_df.iloc[idxV]['demand']\n",
    "    \n",
    "    cb = CatBoostRegressor(learning_rate=0.01, n_estimators=4000, random_state=123, early_stopping_rounds=50, eval_metric='RMSE')\n",
    "    cb.fit(df_trainX, df_trainY, eval_set=(df_evalX,df_evalY), plot=False, verbose=0)\n",
    "    cb_scores.append(cb.get_best_score().get('validation').get('RMSE'))\n",
    "    print ('{} at {}'.format(cb.get_best_score().get('validation').get('RMSE'),cb.get_best_iteration()))\n",
    "        \n",
    "    pred_cb.append(cb.predict(test_df[cols_for_model]))\n",
    "    feat_scores.append(cb.get_feature_importance())\n",
    "\n",
    "weights = 1/np.array(cb_scores)\n",
    "weights = weights/np.sum(weights)\n",
    "print ('The Local CV is {}'.format(np.sum(weights*cb_scores)))\n",
    "\n",
    "sub = test_df[['date','hour']]\n",
    "sub['demand'] = np.sum(weights*np.transpose(pred_cb),1)\n",
    "sub.to_csv('submit.csv', index=False)"
   ]
  },
  {
   "cell_type": "code",
   "execution_count": 9,
   "metadata": {},
   "outputs": [
    {
     "data": {
      "text/html": [
       "<div>\n",
       "<style scoped>\n",
       "    .dataframe tbody tr th:only-of-type {\n",
       "        vertical-align: middle;\n",
       "    }\n",
       "\n",
       "    .dataframe tbody tr th {\n",
       "        vertical-align: top;\n",
       "    }\n",
       "\n",
       "    .dataframe thead th {\n",
       "        text-align: right;\n",
       "    }\n",
       "</style>\n",
       "<table border=\"1\" class=\"dataframe\">\n",
       "  <thead>\n",
       "    <tr style=\"text-align: right;\">\n",
       "      <th></th>\n",
       "      <th>feature</th>\n",
       "      <th>importance</th>\n",
       "    </tr>\n",
       "  </thead>\n",
       "  <tbody>\n",
       "    <tr>\n",
       "      <th>0</th>\n",
       "      <td>hour</td>\n",
       "      <td>37.551034</td>\n",
       "    </tr>\n",
       "    <tr>\n",
       "      <th>1</th>\n",
       "      <td>dayofyear</td>\n",
       "      <td>23.280157</td>\n",
       "    </tr>\n",
       "    <tr>\n",
       "      <th>2</th>\n",
       "      <td>weekday</td>\n",
       "      <td>12.305653</td>\n",
       "    </tr>\n",
       "    <tr>\n",
       "      <th>3</th>\n",
       "      <td>weekofyear</td>\n",
       "      <td>9.395625</td>\n",
       "    </tr>\n",
       "    <tr>\n",
       "      <th>4</th>\n",
       "      <td>year</td>\n",
       "      <td>6.190989</td>\n",
       "    </tr>\n",
       "    <tr>\n",
       "      <th>5</th>\n",
       "      <td>month</td>\n",
       "      <td>5.669545</td>\n",
       "    </tr>\n",
       "    <tr>\n",
       "      <th>6</th>\n",
       "      <td>day</td>\n",
       "      <td>5.090653</td>\n",
       "    </tr>\n",
       "    <tr>\n",
       "      <th>7</th>\n",
       "      <td>hrs_since_previous</td>\n",
       "      <td>0.516342</td>\n",
       "    </tr>\n",
       "  </tbody>\n",
       "</table>\n",
       "</div>"
      ],
      "text/plain": [
       "              feature  importance\n",
       "0                hour   37.551034\n",
       "1           dayofyear   23.280157\n",
       "2             weekday   12.305653\n",
       "3          weekofyear    9.395625\n",
       "4                year    6.190989\n",
       "5               month    5.669545\n",
       "6                 day    5.090653\n",
       "7  hrs_since_previous    0.516342"
      ]
     },
     "execution_count": 9,
     "metadata": {},
     "output_type": "execute_result"
    }
   ],
   "source": [
    "featureImp=pd.DataFrame({'feature':cols_for_model,'importance':np.mean(np.array(feat_scores),0)})\n",
    "featureImp=featureImp.sort_values('importance',ascending=False)\n",
    "featureImp['importance']=featureImp['importance']*100/featureImp['importance'].sum()\n",
    "featureImp.reset_index(drop=True)"
   ]
  }
 ],
 "metadata": {
  "kernelspec": {
   "display_name": "Python 3",
   "language": "python",
   "name": "python3"
  },
  "language_info": {
   "codemirror_mode": {
    "name": "ipython",
    "version": 3
   },
   "file_extension": ".py",
   "mimetype": "text/x-python",
   "name": "python",
   "nbconvert_exporter": "python",
   "pygments_lexer": "ipython3",
   "version": "3.8.5"
  }
 },
 "nbformat": 4,
 "nbformat_minor": 4
}
